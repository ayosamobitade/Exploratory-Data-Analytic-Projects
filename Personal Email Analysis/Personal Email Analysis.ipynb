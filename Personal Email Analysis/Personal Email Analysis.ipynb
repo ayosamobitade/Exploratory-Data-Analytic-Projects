{
 "cells": [
  {
   "cell_type": "code",
   "execution_count": 1,
   "metadata": {},
   "outputs": [],
   "source": [
    "import pandas as pd\n",
    "import numpy as np\n",
    "import matplotlib.pyplot as plt"
   ]
  },
  {
   "cell_type": "code",
   "execution_count": 2,
   "metadata": {},
   "outputs": [],
   "source": [
    "import mailbox"
   ]
  },
  {
   "cell_type": "code",
   "execution_count": 3,
   "metadata": {},
   "outputs": [
    {
     "data": {
      "text/plain": [
       "<mailbox.mbox at 0x2446f038f88>"
      ]
     },
     "execution_count": 3,
     "metadata": {},
     "output_type": "execute_result"
    }
   ],
   "source": [
    "\n",
    "mailboxfile = \"C:/Users/HP/takeout-20220527T154953Z-001/Takeout/Mail/All mail Including Spam and Trash.mbox\"\n",
    "\n",
    "mbox = mailbox.mbox(mailboxfile)\n",
    "mbox"
   ]
  },
  {
   "cell_type": "code",
   "execution_count": 4,
   "metadata": {},
   "outputs": [
    {
     "name": "stdout",
     "output_type": "stream",
     "text": [
      "X-GM-THRID\n",
      "X-Gmail-Labels\n",
      "Delivered-To\n",
      "Received\n",
      "X-Received\n",
      "ARC-Seal\n",
      "ARC-Message-Signature\n",
      "ARC-Authentication-Results\n",
      "Return-Path\n",
      "Received\n",
      "Received-SPF\n",
      "Authentication-Results\n",
      "DKIM-Signature\n",
      "X-Google-DKIM-Signature\n",
      "X-Gm-Message-State\n",
      "X-Google-Smtp-Source\n",
      "MIME-Version\n",
      "X-Received\n",
      "Date\n",
      "List-Unsubscribe\n",
      "X-Notifications\n",
      "X-Notifications-Bounce-Info\n",
      "Message-ID\n",
      "Subject\n",
      "From\n",
      "To\n",
      "Content-Type\n"
     ]
    }
   ],
   "source": [
    "for key in mbox[0].keys():\n",
    "    print(key)"
   ]
  },
  {
   "cell_type": "code",
   "execution_count": 5,
   "metadata": {},
   "outputs": [],
   "source": [
    "import csv"
   ]
  },
  {
   "cell_type": "code",
   "execution_count": null,
   "metadata": {},
   "outputs": [],
   "source": [
    "with open('mailbox.csv', 'w') as outputfile:\n",
    "    writer = csv.writer(outputfile)\n",
    "    writer.writerow(['subject','from','date','to','label','thread'])\n",
    "    for message in mbox:\n",
    "        writer.writerow([\n",
    "            message['subject'],\n",
    "            message['from'],\n",
    "            message['date'],\n",
    "            message['to'],\n",
    "            message['X-Gmail-Labels'],\n",
    "            message['X-GM-THRID']\n",
    "        ])\n",
    "        "
   ]
  },
  {
   "cell_type": "code",
   "execution_count": null,
   "metadata": {},
   "outputs": [],
   "source": [
    "dfs = pd.read_csv('mailbox.csv', names=['subject', 'from', 'date', 'to',\n",
    "'label', 'thread'])"
   ]
  },
  {
   "cell_type": "code",
   "execution_count": null,
   "metadata": {},
   "outputs": [],
   "source": [
    "dfs.head(5)"
   ]
  },
  {
   "cell_type": "code",
   "execution_count": null,
   "metadata": {},
   "outputs": [],
   "source": [
    "dfs.dtypes"
   ]
  },
  {
   "cell_type": "code",
   "execution_count": null,
   "metadata": {},
   "outputs": [],
   "source": [
    "dfs['date'] = dfs['date'].apply(lambda x: pd.to_datetime(x, errors='coerce', utc=True))"
   ]
  },
  {
   "cell_type": "code",
   "execution_count": null,
   "metadata": {},
   "outputs": [],
   "source": [
    "dfs.dtypes"
   ]
  },
  {
   "cell_type": "code",
   "execution_count": null,
   "metadata": {},
   "outputs": [],
   "source": [
    "## Removing the Nan values"
   ]
  },
  {
   "cell_type": "code",
   "execution_count": null,
   "metadata": {},
   "outputs": [],
   "source": [
    "dfs = dfs[dfs['date'].notna()]"
   ]
  },
  {
   "cell_type": "code",
   "execution_count": null,
   "metadata": {},
   "outputs": [],
   "source": [
    "## Applying descriptive statistics"
   ]
  },
  {
   "cell_type": "code",
   "execution_count": null,
   "metadata": {},
   "outputs": [],
   "source": [
    "dfs.info()"
   ]
  },
  {
   "cell_type": "code",
   "execution_count": null,
   "metadata": {},
   "outputs": [],
   "source": [
    "# Note that ther are 21565 emails"
   ]
  },
  {
   "cell_type": "code",
   "execution_count": null,
   "metadata": {
    "scrolled": true
   },
   "outputs": [],
   "source": [
    "dfs.head(10)"
   ]
  },
  {
   "cell_type": "code",
   "execution_count": null,
   "metadata": {},
   "outputs": [],
   "source": [
    "## Data refactoring"
   ]
  },
  {
   "cell_type": "code",
   "execution_count": null,
   "metadata": {},
   "outputs": [],
   "source": [
    "# creating an email extractor\n",
    "\n",
    "import re\n",
    "\n",
    "def extract_email_address(string):\n",
    "    email = re.findall(r'<(.+?)>', string)\n",
    "    if not email:\n",
    "        email = list(filter(lambda y: '@' in y, string.split()))\n",
    "        return email[0] if email else np.nan\n"
   ]
  },
  {
   "cell_type": "code",
   "execution_count": null,
   "metadata": {
    "scrolled": true
   },
   "outputs": [],
   "source": [
    "# applying the email extractor\n",
    "\n",
    "dfs['from'] = dfs['from'].apply(lambda x: extract_email_address(x))"
   ]
  },
  {
   "cell_type": "code",
   "execution_count": null,
   "metadata": {},
   "outputs": [],
   "source": [
    "dfs.sample(10)"
   ]
  },
  {
   "cell_type": "code",
   "execution_count": null,
   "metadata": {},
   "outputs": [],
   "source": [
    "myemail = 'ayosamobitade@gmail.com'\n",
    "dfs['label'] = dfs['from'].apply(lambda x: 'sent' if x==myemail else 'inbox')"
   ]
  },
  {
   "cell_type": "markdown",
   "metadata": {},
   "source": [
    "## Dropping columns\n"
   ]
  },
  {
   "cell_type": "code",
   "execution_count": null,
   "metadata": {},
   "outputs": [],
   "source": [
    "dfs.drop('to', axis = 1, inplace = True)"
   ]
  },
  {
   "cell_type": "code",
   "execution_count": null,
   "metadata": {},
   "outputs": [],
   "source": [
    "# adjusting the time zones\n",
    "\n",
    "import datetime\n",
    "import pytz\n",
    "\n",
    "def refaactor_timezone(x):\n",
    "    eas = pytz"
   ]
  }
 ],
 "metadata": {
  "kernelspec": {
   "display_name": "Python 3",
   "language": "python",
   "name": "python3"
  },
  "language_info": {
   "codemirror_mode": {
    "name": "ipython",
    "version": 3
   },
   "file_extension": ".py",
   "mimetype": "text/x-python",
   "name": "python",
   "nbconvert_exporter": "python",
   "pygments_lexer": "ipython3",
   "version": "3.7.6"
  }
 },
 "nbformat": 4,
 "nbformat_minor": 4
}
