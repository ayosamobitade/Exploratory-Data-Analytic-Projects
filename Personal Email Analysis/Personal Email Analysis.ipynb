{
 "cells": [
  {
   "cell_type": "code",
   "execution_count": 1,
   "metadata": {},
   "outputs": [],
   "source": [
    "import pandas as pd\n",
    "import numpy as np\n",
    "import matplotlib.pyplot as plt"
   ]
  },
  {
   "cell_type": "code",
   "execution_count": 2,
   "metadata": {},
   "outputs": [],
   "source": [
    "import mailbox"
   ]
  },
  {
   "cell_type": "code",
   "execution_count": 3,
   "metadata": {},
   "outputs": [
    {
     "data": {
      "text/plain": [
       "<mailbox.mbox at 0x15bc8e6d388>"
      ]
     },
     "execution_count": 3,
     "metadata": {},
     "output_type": "execute_result"
    }
   ],
   "source": [
    "\n",
    "mailboxfile = \"C:/Users/HP/takeout-20220527T154953Z-001/Takeout/Mail/All mail Including Spam and Trash.mbox\"\n",
    "\n",
    "mbox = mailbox.mbox(mailboxfile)\n",
    "mbox"
   ]
  },
  {
   "cell_type": "code",
   "execution_count": 4,
   "metadata": {},
   "outputs": [
    {
     "name": "stdout",
     "output_type": "stream",
     "text": [
      "X-GM-THRID\n",
      "X-Gmail-Labels\n",
      "Delivered-To\n",
      "Received\n",
      "X-Received\n",
      "ARC-Seal\n",
      "ARC-Message-Signature\n",
      "ARC-Authentication-Results\n",
      "Return-Path\n",
      "Received\n",
      "Received-SPF\n",
      "Authentication-Results\n",
      "DKIM-Signature\n",
      "X-Google-DKIM-Signature\n",
      "X-Gm-Message-State\n",
      "X-Google-Smtp-Source\n",
      "MIME-Version\n",
      "X-Received\n",
      "Date\n",
      "List-Unsubscribe\n",
      "X-Notifications\n",
      "X-Notifications-Bounce-Info\n",
      "Message-ID\n",
      "Subject\n",
      "From\n",
      "To\n",
      "Content-Type\n"
     ]
    }
   ],
   "source": [
    "for key in mbox[0].keys():\n",
    "    print(key)"
   ]
  },
  {
   "cell_type": "code",
   "execution_count": 5,
   "metadata": {},
   "outputs": [],
   "source": [
    "import csv"
   ]
  },
  {
   "cell_type": "code",
   "execution_count": 6,
   "metadata": {},
   "outputs": [],
   "source": [
    "with open('mailbox.csv', 'w') as outputfile:\n",
    "    writer = csv.writer(outputfile)\n",
    "    writer.writerow(['subject','from','date','to','label','thread'])\n",
    "    for message in mbox:\n",
    "        writer.writerow([\n",
    "            message['subject'],\n",
    "            message['from'],\n",
    "            message['date'],\n",
    "            message['to'],\n",
    "            message['X-Gmail-Labels'],\n",
    "            message['X-GM-THRID']\n",
    "        ])\n",
    "        "
   ]
  },
  {
   "cell_type": "code",
   "execution_count": 7,
   "metadata": {},
   "outputs": [],
   "source": [
    "dfs = pd.read_csv('mailbox.csv', names=['subject', 'from', 'date', 'to',\n",
    "'label', 'thread'])"
   ]
  },
  {
   "cell_type": "code",
   "execution_count": 8,
   "metadata": {},
   "outputs": [
    {
     "data": {
      "text/html": [
       "<div>\n",
       "<style scoped>\n",
       "    .dataframe tbody tr th:only-of-type {\n",
       "        vertical-align: middle;\n",
       "    }\n",
       "\n",
       "    .dataframe tbody tr th {\n",
       "        vertical-align: top;\n",
       "    }\n",
       "\n",
       "    .dataframe thead th {\n",
       "        text-align: right;\n",
       "    }\n",
       "</style>\n",
       "<table border=\"1\" class=\"dataframe\">\n",
       "  <thead>\n",
       "    <tr style=\"text-align: right;\">\n",
       "      <th></th>\n",
       "      <th>subject</th>\n",
       "      <th>from</th>\n",
       "      <th>date</th>\n",
       "      <th>to</th>\n",
       "      <th>label</th>\n",
       "      <th>thread</th>\n",
       "    </tr>\n",
       "  </thead>\n",
       "  <tbody>\n",
       "    <tr>\n",
       "      <th>0</th>\n",
       "      <td>subject</td>\n",
       "      <td>from</td>\n",
       "      <td>date</td>\n",
       "      <td>to</td>\n",
       "      <td>label</td>\n",
       "      <td>thread</td>\n",
       "    </tr>\n",
       "    <tr>\n",
       "      <th>1</th>\n",
       "      <td>=?UTF-8?Q?3_new_jobs_for_=E2=80=98data_scienti...</td>\n",
       "      <td>Job alerts from Google &lt;notify-noreply@google....</td>\n",
       "      <td>Tue, 24 May 2022 12:27:26 -0700</td>\n",
       "      <td>ayosamobitade@gmail.com</td>\n",
       "      <td>Inbox,Opened,Category Updates</td>\n",
       "      <td>1733736999130792636</td>\n",
       "    </tr>\n",
       "    <tr>\n",
       "      <th>2</th>\n",
       "      <td>Your program recommendations for the week</td>\n",
       "      <td>\"Will at edX\" &lt;edX@news.edx.org&gt;</td>\n",
       "      <td>Thu, 26 May 2022 14:00:10 +0000</td>\n",
       "      <td>ayosamobitade@gmail.com</td>\n",
       "      <td>Inbox,Category Promotions,Unread</td>\n",
       "      <td>1733897612589550289</td>\n",
       "    </tr>\n",
       "    <tr>\n",
       "      <th>3</th>\n",
       "      <td>=?utf-8?Q?Excel=20Newsletter=20=2D=20STOP=20Em...</td>\n",
       "      <td>=?utf-8?Q?My=20Online=20Training=20Hub?= &lt;webs...</td>\n",
       "      <td>Thu, 26 May 2022 12:06:07 +0000</td>\n",
       "      <td>&lt;Ayosamobitade@gmail.com&gt;</td>\n",
       "      <td>Inbox,Category Updates,Unread</td>\n",
       "      <td>1733890522517290196</td>\n",
       "    </tr>\n",
       "    <tr>\n",
       "      <th>4</th>\n",
       "      <td>=?UTF-8?Q?*Konga_Food_is_now_live_in_Lagos!*_=...</td>\n",
       "      <td>Konga Food &lt;Newsletter@info.konga.com&gt;</td>\n",
       "      <td>Mon, 23 May 2022 15:25:50 +0530</td>\n",
       "      <td>ayosamobitade@gmail.com</td>\n",
       "      <td>Inbox,Category Promotions,Unread</td>\n",
       "      <td>1733610439749409235</td>\n",
       "    </tr>\n",
       "  </tbody>\n",
       "</table>\n",
       "</div>"
      ],
      "text/plain": [
       "                                             subject  \\\n",
       "0                                            subject   \n",
       "1  =?UTF-8?Q?3_new_jobs_for_=E2=80=98data_scienti...   \n",
       "2          Your program recommendations for the week   \n",
       "3  =?utf-8?Q?Excel=20Newsletter=20=2D=20STOP=20Em...   \n",
       "4  =?UTF-8?Q?*Konga_Food_is_now_live_in_Lagos!*_=...   \n",
       "\n",
       "                                                from  \\\n",
       "0                                               from   \n",
       "1  Job alerts from Google <notify-noreply@google....   \n",
       "2                   \"Will at edX\" <edX@news.edx.org>   \n",
       "3  =?utf-8?Q?My=20Online=20Training=20Hub?= <webs...   \n",
       "4             Konga Food <Newsletter@info.konga.com>   \n",
       "\n",
       "                              date                         to  \\\n",
       "0                             date                         to   \n",
       "1  Tue, 24 May 2022 12:27:26 -0700    ayosamobitade@gmail.com   \n",
       "2  Thu, 26 May 2022 14:00:10 +0000    ayosamobitade@gmail.com   \n",
       "3  Thu, 26 May 2022 12:06:07 +0000  <Ayosamobitade@gmail.com>   \n",
       "4  Mon, 23 May 2022 15:25:50 +0530    ayosamobitade@gmail.com   \n",
       "\n",
       "                              label               thread  \n",
       "0                             label               thread  \n",
       "1     Inbox,Opened,Category Updates  1733736999130792636  \n",
       "2  Inbox,Category Promotions,Unread  1733897612589550289  \n",
       "3     Inbox,Category Updates,Unread  1733890522517290196  \n",
       "4  Inbox,Category Promotions,Unread  1733610439749409235  "
      ]
     },
     "execution_count": 8,
     "metadata": {},
     "output_type": "execute_result"
    }
   ],
   "source": [
    "dfs.head(5)"
   ]
  },
  {
   "cell_type": "code",
   "execution_count": 9,
   "metadata": {},
   "outputs": [
    {
     "data": {
      "text/plain": [
       "subject    object\n",
       "from       object\n",
       "date       object\n",
       "to         object\n",
       "label      object\n",
       "thread     object\n",
       "dtype: object"
      ]
     },
     "execution_count": 9,
     "metadata": {},
     "output_type": "execute_result"
    }
   ],
   "source": [
    "dfs.dtypes"
   ]
  },
  {
   "cell_type": "code",
   "execution_count": 10,
   "metadata": {},
   "outputs": [
    {
     "name": "stderr",
     "output_type": "stream",
     "text": [
      "C:\\Users\\HP\\anaconda3\\lib\\site-packages\\dateutil\\parser\\_parser.py:1218: UnknownTimezoneWarning: tzname CDT identified but not understood.  Pass `tzinfos` argument in order to correctly return a timezone-aware datetime.  In a future version, this will raise an exception.\n",
      "  category=UnknownTimezoneWarning)\n",
      "C:\\Users\\HP\\anaconda3\\lib\\site-packages\\dateutil\\parser\\_parser.py:1218: UnknownTimezoneWarning: tzname CST identified but not understood.  Pass `tzinfos` argument in order to correctly return a timezone-aware datetime.  In a future version, this will raise an exception.\n",
      "  category=UnknownTimezoneWarning)\n",
      "C:\\Users\\HP\\anaconda3\\lib\\site-packages\\dateutil\\parser\\_parser.py:1218: UnknownTimezoneWarning: tzname EST identified but not understood.  Pass `tzinfos` argument in order to correctly return a timezone-aware datetime.  In a future version, this will raise an exception.\n",
      "  category=UnknownTimezoneWarning)\n"
     ]
    }
   ],
   "source": [
    "dfs['date'] = dfs['date'].apply(lambda x: pd.to_datetime(x, errors='coerce', utc=True))"
   ]
  },
  {
   "cell_type": "code",
   "execution_count": 11,
   "metadata": {},
   "outputs": [
    {
     "data": {
      "text/plain": [
       "subject                 object\n",
       "from                    object\n",
       "date       datetime64[ns, UTC]\n",
       "to                      object\n",
       "label                   object\n",
       "thread                  object\n",
       "dtype: object"
      ]
     },
     "execution_count": 11,
     "metadata": {},
     "output_type": "execute_result"
    }
   ],
   "source": [
    "dfs.dtypes"
   ]
  },
  {
   "cell_type": "code",
   "execution_count": 12,
   "metadata": {},
   "outputs": [],
   "source": [
    "## Removing the Nan values"
   ]
  },
  {
   "cell_type": "code",
   "execution_count": 13,
   "metadata": {},
   "outputs": [],
   "source": [
    "dfs = dfs[dfs['date'].notna()]"
   ]
  },
  {
   "cell_type": "code",
   "execution_count": 14,
   "metadata": {},
   "outputs": [],
   "source": [
    "## Applying descriptive statistics"
   ]
  },
  {
   "cell_type": "code",
   "execution_count": 15,
   "metadata": {},
   "outputs": [
    {
     "name": "stdout",
     "output_type": "stream",
     "text": [
      "<class 'pandas.core.frame.DataFrame'>\n",
      "Int64Index: 21565 entries, 1 to 21566\n",
      "Data columns (total 6 columns):\n",
      " #   Column   Non-Null Count  Dtype              \n",
      "---  ------   --------------  -----              \n",
      " 0   subject  21502 non-null  object             \n",
      " 1   from     21565 non-null  object             \n",
      " 2   date     21565 non-null  datetime64[ns, UTC]\n",
      " 3   to       21545 non-null  object             \n",
      " 4   label    21565 non-null  object             \n",
      " 5   thread   21565 non-null  object             \n",
      "dtypes: datetime64[ns, UTC](1), object(5)\n",
      "memory usage: 1.2+ MB\n"
     ]
    }
   ],
   "source": [
    "dfs.info()"
   ]
  },
  {
   "cell_type": "code",
   "execution_count": 16,
   "metadata": {},
   "outputs": [],
   "source": [
    "# Note that ther are 21565 emails"
   ]
  },
  {
   "cell_type": "code",
   "execution_count": 17,
   "metadata": {
    "scrolled": true
   },
   "outputs": [
    {
     "data": {
      "text/html": [
       "<div>\n",
       "<style scoped>\n",
       "    .dataframe tbody tr th:only-of-type {\n",
       "        vertical-align: middle;\n",
       "    }\n",
       "\n",
       "    .dataframe tbody tr th {\n",
       "        vertical-align: top;\n",
       "    }\n",
       "\n",
       "    .dataframe thead th {\n",
       "        text-align: right;\n",
       "    }\n",
       "</style>\n",
       "<table border=\"1\" class=\"dataframe\">\n",
       "  <thead>\n",
       "    <tr style=\"text-align: right;\">\n",
       "      <th></th>\n",
       "      <th>subject</th>\n",
       "      <th>from</th>\n",
       "      <th>date</th>\n",
       "      <th>to</th>\n",
       "      <th>label</th>\n",
       "      <th>thread</th>\n",
       "    </tr>\n",
       "  </thead>\n",
       "  <tbody>\n",
       "    <tr>\n",
       "      <th>1</th>\n",
       "      <td>=?UTF-8?Q?3_new_jobs_for_=E2=80=98data_scienti...</td>\n",
       "      <td>Job alerts from Google &lt;notify-noreply@google....</td>\n",
       "      <td>2022-05-24 19:27:26+00:00</td>\n",
       "      <td>ayosamobitade@gmail.com</td>\n",
       "      <td>Inbox,Opened,Category Updates</td>\n",
       "      <td>1733736999130792636</td>\n",
       "    </tr>\n",
       "    <tr>\n",
       "      <th>2</th>\n",
       "      <td>Your program recommendations for the week</td>\n",
       "      <td>\"Will at edX\" &lt;edX@news.edx.org&gt;</td>\n",
       "      <td>2022-05-26 14:00:10+00:00</td>\n",
       "      <td>ayosamobitade@gmail.com</td>\n",
       "      <td>Inbox,Category Promotions,Unread</td>\n",
       "      <td>1733897612589550289</td>\n",
       "    </tr>\n",
       "    <tr>\n",
       "      <th>3</th>\n",
       "      <td>=?utf-8?Q?Excel=20Newsletter=20=2D=20STOP=20Em...</td>\n",
       "      <td>=?utf-8?Q?My=20Online=20Training=20Hub?= &lt;webs...</td>\n",
       "      <td>2022-05-26 12:06:07+00:00</td>\n",
       "      <td>&lt;Ayosamobitade@gmail.com&gt;</td>\n",
       "      <td>Inbox,Category Updates,Unread</td>\n",
       "      <td>1733890522517290196</td>\n",
       "    </tr>\n",
       "    <tr>\n",
       "      <th>4</th>\n",
       "      <td>=?UTF-8?Q?*Konga_Food_is_now_live_in_Lagos!*_=...</td>\n",
       "      <td>Konga Food &lt;Newsletter@info.konga.com&gt;</td>\n",
       "      <td>2022-05-23 09:55:50+00:00</td>\n",
       "      <td>ayosamobitade@gmail.com</td>\n",
       "      <td>Inbox,Category Promotions,Unread</td>\n",
       "      <td>1733610439749409235</td>\n",
       "    </tr>\n",
       "    <tr>\n",
       "      <th>5</th>\n",
       "      <td>30+ new jobs for 'data scientist'</td>\n",
       "      <td>LinkedIn Job Alerts &lt;jobalerts-noreply@linkedi...</td>\n",
       "      <td>2022-05-23 15:04:34+00:00</td>\n",
       "      <td>\"Ayobami Samuel Obitade B.Tech\" &lt;ayosamobitade...</td>\n",
       "      <td>Inbox,Category Updates,Unread</td>\n",
       "      <td>1733629866042045910</td>\n",
       "    </tr>\n",
       "    <tr>\n",
       "      <th>6</th>\n",
       "      <td>Re: [DataTalksClub/data-engineering-zoomcamp] ...</td>\n",
       "      <td>Alexey Grigorev &lt;notifications@github.com&gt;</td>\n",
       "      <td>2022-05-22 20:53:24+00:00</td>\n",
       "      <td>DataTalksClub/data-engineering-zoomcamp &lt;data-...</td>\n",
       "      <td>Trash,Opened,Category Forums</td>\n",
       "      <td>1733323756223473963</td>\n",
       "    </tr>\n",
       "    <tr>\n",
       "      <th>7</th>\n",
       "      <td>Re: [DataTalksClub/data-engineering-zoomcamp] ...</td>\n",
       "      <td>Alexey Grigorev &lt;notifications@github.com&gt;</td>\n",
       "      <td>2022-05-22 20:53:22+00:00</td>\n",
       "      <td>DataTalksClub/data-engineering-zoomcamp &lt;data-...</td>\n",
       "      <td>Trash,Opened,Category Forums</td>\n",
       "      <td>1733323756223473963</td>\n",
       "    </tr>\n",
       "    <tr>\n",
       "      <th>8</th>\n",
       "      <td>[DataTalksClub/data-engineering-zoomcamp] Time...</td>\n",
       "      <td>Alexey Grigorev &lt;notifications@github.com&gt;</td>\n",
       "      <td>2022-05-20 05:59:07+00:00</td>\n",
       "      <td>DataTalksClub/data-engineering-zoomcamp &lt;data-...</td>\n",
       "      <td>Trash,Opened,Category Updates</td>\n",
       "      <td>1733323756223473963</td>\n",
       "    </tr>\n",
       "    <tr>\n",
       "      <th>9</th>\n",
       "      <td>=?utf-8?q?I_was_refused_a_USA_visa_on_a_counte...</td>\n",
       "      <td>Quora Digest &lt;english-personalized-digest@quor...</td>\n",
       "      <td>2022-05-22 04:12:22+00:00</td>\n",
       "      <td>ayosamobitade@gmail.com</td>\n",
       "      <td>Inbox,Category Updates,Unread</td>\n",
       "      <td>1733498234232534466</td>\n",
       "    </tr>\n",
       "    <tr>\n",
       "      <th>10</th>\n",
       "      <td>GRE Question of the Day for May 15</td>\n",
       "      <td>\"Kaplan Test Prep\" &lt;kaplantestprep@mail.kaptes...</td>\n",
       "      <td>2022-05-15 13:35:13+00:00</td>\n",
       "      <td>&lt;ayosamobitade@gmail.com&gt;</td>\n",
       "      <td>Inbox,Category Promotions,Unread</td>\n",
       "      <td>1732899544725135310</td>\n",
       "    </tr>\n",
       "  </tbody>\n",
       "</table>\n",
       "</div>"
      ],
      "text/plain": [
       "                                              subject  \\\n",
       "1   =?UTF-8?Q?3_new_jobs_for_=E2=80=98data_scienti...   \n",
       "2           Your program recommendations for the week   \n",
       "3   =?utf-8?Q?Excel=20Newsletter=20=2D=20STOP=20Em...   \n",
       "4   =?UTF-8?Q?*Konga_Food_is_now_live_in_Lagos!*_=...   \n",
       "5                   30+ new jobs for 'data scientist'   \n",
       "6   Re: [DataTalksClub/data-engineering-zoomcamp] ...   \n",
       "7   Re: [DataTalksClub/data-engineering-zoomcamp] ...   \n",
       "8   [DataTalksClub/data-engineering-zoomcamp] Time...   \n",
       "9   =?utf-8?q?I_was_refused_a_USA_visa_on_a_counte...   \n",
       "10                 GRE Question of the Day for May 15   \n",
       "\n",
       "                                                 from  \\\n",
       "1   Job alerts from Google <notify-noreply@google....   \n",
       "2                    \"Will at edX\" <edX@news.edx.org>   \n",
       "3   =?utf-8?Q?My=20Online=20Training=20Hub?= <webs...   \n",
       "4              Konga Food <Newsletter@info.konga.com>   \n",
       "5   LinkedIn Job Alerts <jobalerts-noreply@linkedi...   \n",
       "6          Alexey Grigorev <notifications@github.com>   \n",
       "7          Alexey Grigorev <notifications@github.com>   \n",
       "8          Alexey Grigorev <notifications@github.com>   \n",
       "9   Quora Digest <english-personalized-digest@quor...   \n",
       "10  \"Kaplan Test Prep\" <kaplantestprep@mail.kaptes...   \n",
       "\n",
       "                        date  \\\n",
       "1  2022-05-24 19:27:26+00:00   \n",
       "2  2022-05-26 14:00:10+00:00   \n",
       "3  2022-05-26 12:06:07+00:00   \n",
       "4  2022-05-23 09:55:50+00:00   \n",
       "5  2022-05-23 15:04:34+00:00   \n",
       "6  2022-05-22 20:53:24+00:00   \n",
       "7  2022-05-22 20:53:22+00:00   \n",
       "8  2022-05-20 05:59:07+00:00   \n",
       "9  2022-05-22 04:12:22+00:00   \n",
       "10 2022-05-15 13:35:13+00:00   \n",
       "\n",
       "                                                   to  \\\n",
       "1                             ayosamobitade@gmail.com   \n",
       "2                             ayosamobitade@gmail.com   \n",
       "3                           <Ayosamobitade@gmail.com>   \n",
       "4                             ayosamobitade@gmail.com   \n",
       "5   \"Ayobami Samuel Obitade B.Tech\" <ayosamobitade...   \n",
       "6   DataTalksClub/data-engineering-zoomcamp <data-...   \n",
       "7   DataTalksClub/data-engineering-zoomcamp <data-...   \n",
       "8   DataTalksClub/data-engineering-zoomcamp <data-...   \n",
       "9                             ayosamobitade@gmail.com   \n",
       "10                          <ayosamobitade@gmail.com>   \n",
       "\n",
       "                               label               thread  \n",
       "1      Inbox,Opened,Category Updates  1733736999130792636  \n",
       "2   Inbox,Category Promotions,Unread  1733897612589550289  \n",
       "3      Inbox,Category Updates,Unread  1733890522517290196  \n",
       "4   Inbox,Category Promotions,Unread  1733610439749409235  \n",
       "5      Inbox,Category Updates,Unread  1733629866042045910  \n",
       "6       Trash,Opened,Category Forums  1733323756223473963  \n",
       "7       Trash,Opened,Category Forums  1733323756223473963  \n",
       "8      Trash,Opened,Category Updates  1733323756223473963  \n",
       "9      Inbox,Category Updates,Unread  1733498234232534466  \n",
       "10  Inbox,Category Promotions,Unread  1732899544725135310  "
      ]
     },
     "execution_count": 17,
     "metadata": {},
     "output_type": "execute_result"
    }
   ],
   "source": [
    "dfs.head(10)"
   ]
  },
  {
   "cell_type": "code",
   "execution_count": 18,
   "metadata": {},
   "outputs": [],
   "source": [
    "## Data refactoring"
   ]
  },
  {
   "cell_type": "code",
   "execution_count": 19,
   "metadata": {},
   "outputs": [],
   "source": [
    "# creating an email extractor\n",
    "\n",
    "import re\n",
    "\n",
    "def extract_email_address(string):\n",
    "    email = re.findall(r'<(.+?)>', string)\n",
    "    if not email:\n",
    "        email = list(filter(lambda y: '@' in y, string.split()))\n",
    "        return email[0] if email else np.nan\n"
   ]
  },
  {
   "cell_type": "code",
   "execution_count": 20,
   "metadata": {
    "scrolled": true
   },
   "outputs": [],
   "source": [
    "# applying the email extractor\n",
    "\n",
    "dfs['from'] = dfs['from'].apply(lambda x: extract_email_address(x))"
   ]
  },
  {
   "cell_type": "code",
   "execution_count": 21,
   "metadata": {},
   "outputs": [
    {
     "data": {
      "text/html": [
       "<div>\n",
       "<style scoped>\n",
       "    .dataframe tbody tr th:only-of-type {\n",
       "        vertical-align: middle;\n",
       "    }\n",
       "\n",
       "    .dataframe tbody tr th {\n",
       "        vertical-align: top;\n",
       "    }\n",
       "\n",
       "    .dataframe thead th {\n",
       "        text-align: right;\n",
       "    }\n",
       "</style>\n",
       "<table border=\"1\" class=\"dataframe\">\n",
       "  <thead>\n",
       "    <tr style=\"text-align: right;\">\n",
       "      <th></th>\n",
       "      <th>subject</th>\n",
       "      <th>from</th>\n",
       "      <th>date</th>\n",
       "      <th>to</th>\n",
       "      <th>label</th>\n",
       "      <th>thread</th>\n",
       "    </tr>\n",
       "  </thead>\n",
       "  <tbody>\n",
       "    <tr>\n",
       "      <th>13442</th>\n",
       "      <td>New Task: Google Knowledge panel Service reque...</td>\n",
       "      <td>projects@justfrom5k.com</td>\n",
       "      <td>2020-03-26 03:52:26+00:00</td>\n",
       "      <td>=?UTF-8?B?QXlvYmFtaQ==?= &lt;ayosamobitade@gmail....</td>\n",
       "      <td>Inbox,Category Updates,Unread</td>\n",
       "      <td>1662197167866517748</td>\n",
       "    </tr>\n",
       "    <tr>\n",
       "      <th>13148</th>\n",
       "      <td>Dont miss this: Free Trainings Just for you</td>\n",
       "      <td>None</td>\n",
       "      <td>2020-03-16 19:22:30+00:00</td>\n",
       "      <td>Ayobami &lt;ayosamobitade@gmail.com&gt;</td>\n",
       "      <td>Inbox,Category Updates,Unread</td>\n",
       "      <td>1661349712508654291</td>\n",
       "    </tr>\n",
       "    <tr>\n",
       "      <th>600</th>\n",
       "      <td>GeNS Transaction Alert [Credit: USD 182.00]</td>\n",
       "      <td>None</td>\n",
       "      <td>2022-03-04 10:02:24+00:00</td>\n",
       "      <td>&lt;ayosamobitade@gmail.com&gt;</td>\n",
       "      <td>Inbox,Category Updates,Unread</td>\n",
       "      <td>1726362873322546257</td>\n",
       "    </tr>\n",
       "    <tr>\n",
       "      <th>3080</th>\n",
       "      <td>Check out this creator!</td>\n",
       "      <td>None</td>\n",
       "      <td>2021-09-29 15:30:40+00:00</td>\n",
       "      <td>\"Ayobami Samuel Obitade\" &lt;ayosamobitade@gmail....</td>\n",
       "      <td>Inbox,Category Promotions,Unread</td>\n",
       "      <td>1712250621992779793</td>\n",
       "    </tr>\n",
       "    <tr>\n",
       "      <th>6288</th>\n",
       "      <td>We think Obitade Ayobami Samuel and CHRISTUS H...</td>\n",
       "      <td>None</td>\n",
       "      <td>2021-04-13 19:07:19+00:00</td>\n",
       "      <td>ayosamobitade@gmail.com</td>\n",
       "      <td>Inbox,Important,Opened,Category Updates</td>\n",
       "      <td>1696953365162064921</td>\n",
       "    </tr>\n",
       "    <tr>\n",
       "      <th>3689</th>\n",
       "      <td>True or false? Test your online learning know-...</td>\n",
       "      <td>None</td>\n",
       "      <td>2021-08-15 13:10:08+00:00</td>\n",
       "      <td>ayosamobitade@gmail.com</td>\n",
       "      <td>Inbox,Category Promotions,Unread</td>\n",
       "      <td>1708164916532867065</td>\n",
       "    </tr>\n",
       "    <tr>\n",
       "      <th>3480</th>\n",
       "      <td>mymdoc recently posted</td>\n",
       "      <td>None</td>\n",
       "      <td>2021-09-17 18:02:24+00:00</td>\n",
       "      <td>Ayobami Samuel Obitade &lt;ayosamobitade@gmail.com&gt;</td>\n",
       "      <td>Inbox,Opened,Category Updates</td>\n",
       "      <td>1711173008517707348</td>\n",
       "    </tr>\n",
       "    <tr>\n",
       "      <th>2733</th>\n",
       "      <td>Cartoon Videos and 4 more apps installed on Ob...</td>\n",
       "      <td>None</td>\n",
       "      <td>2021-11-11 19:55:53+00:00</td>\n",
       "      <td>ayosamobitade@gmail.com</td>\n",
       "      <td>Inbox,Category Updates,Unread</td>\n",
       "      <td>1716162977556542027</td>\n",
       "    </tr>\n",
       "    <tr>\n",
       "      <th>14526</th>\n",
       "      <td>=?utf-8?q?I_can=27t_finish_any_book_I_read=2E_...</td>\n",
       "      <td>None</td>\n",
       "      <td>2019-11-24 02:42:12+00:00</td>\n",
       "      <td>ayosamobitade@gmail.com</td>\n",
       "      <td>Inbox,Category Social,Unread</td>\n",
       "      <td>1651049321528766942</td>\n",
       "    </tr>\n",
       "    <tr>\n",
       "      <th>18215</th>\n",
       "      <td>Discover our essential reading list for July</td>\n",
       "      <td>None</td>\n",
       "      <td>2018-07-25 12:04:06+00:00</td>\n",
       "      <td>ayosamobitade@gmail.com</td>\n",
       "      <td>Inbox,Category Promotions,Unread</td>\n",
       "      <td>1606965583049999885</td>\n",
       "    </tr>\n",
       "  </tbody>\n",
       "</table>\n",
       "</div>"
      ],
      "text/plain": [
       "                                                 subject  \\\n",
       "13442  New Task: Google Knowledge panel Service reque...   \n",
       "13148        Dont miss this: Free Trainings Just for you   \n",
       "600          GeNS Transaction Alert [Credit: USD 182.00]   \n",
       "3080                             Check out this creator!   \n",
       "6288   We think Obitade Ayobami Samuel and CHRISTUS H...   \n",
       "3689   True or false? Test your online learning know-...   \n",
       "3480                              mymdoc recently posted   \n",
       "2733   Cartoon Videos and 4 more apps installed on Ob...   \n",
       "14526  =?utf-8?q?I_can=27t_finish_any_book_I_read=2E_...   \n",
       "18215       Discover our essential reading list for July   \n",
       "\n",
       "                          from                      date  \\\n",
       "13442  projects@justfrom5k.com 2020-03-26 03:52:26+00:00   \n",
       "13148                     None 2020-03-16 19:22:30+00:00   \n",
       "600                       None 2022-03-04 10:02:24+00:00   \n",
       "3080                      None 2021-09-29 15:30:40+00:00   \n",
       "6288                      None 2021-04-13 19:07:19+00:00   \n",
       "3689                      None 2021-08-15 13:10:08+00:00   \n",
       "3480                      None 2021-09-17 18:02:24+00:00   \n",
       "2733                      None 2021-11-11 19:55:53+00:00   \n",
       "14526                     None 2019-11-24 02:42:12+00:00   \n",
       "18215                     None 2018-07-25 12:04:06+00:00   \n",
       "\n",
       "                                                      to  \\\n",
       "13442  =?UTF-8?B?QXlvYmFtaQ==?= <ayosamobitade@gmail....   \n",
       "13148                  Ayobami <ayosamobitade@gmail.com>   \n",
       "600                            <ayosamobitade@gmail.com>   \n",
       "3080   \"Ayobami Samuel Obitade\" <ayosamobitade@gmail....   \n",
       "6288                             ayosamobitade@gmail.com   \n",
       "3689                             ayosamobitade@gmail.com   \n",
       "3480    Ayobami Samuel Obitade <ayosamobitade@gmail.com>   \n",
       "2733                             ayosamobitade@gmail.com   \n",
       "14526                            ayosamobitade@gmail.com   \n",
       "18215                            ayosamobitade@gmail.com   \n",
       "\n",
       "                                         label               thread  \n",
       "13442            Inbox,Category Updates,Unread  1662197167866517748  \n",
       "13148            Inbox,Category Updates,Unread  1661349712508654291  \n",
       "600              Inbox,Category Updates,Unread  1726362873322546257  \n",
       "3080          Inbox,Category Promotions,Unread  1712250621992779793  \n",
       "6288   Inbox,Important,Opened,Category Updates  1696953365162064921  \n",
       "3689          Inbox,Category Promotions,Unread  1708164916532867065  \n",
       "3480             Inbox,Opened,Category Updates  1711173008517707348  \n",
       "2733             Inbox,Category Updates,Unread  1716162977556542027  \n",
       "14526             Inbox,Category Social,Unread  1651049321528766942  \n",
       "18215         Inbox,Category Promotions,Unread  1606965583049999885  "
      ]
     },
     "execution_count": 21,
     "metadata": {},
     "output_type": "execute_result"
    }
   ],
   "source": [
    "dfs.sample(10)"
   ]
  },
  {
   "cell_type": "code",
   "execution_count": 22,
   "metadata": {},
   "outputs": [],
   "source": [
    "myemail = 'ayosamobitade@gmail.com'\n",
    "dfs['label'] = dfs['from'].apply(lambda x: 'sent' if x==myemail else 'inbox')"
   ]
  },
  {
   "cell_type": "code",
   "execution_count": null,
   "metadata": {},
   "outputs": [],
   "source": []
  }
 ],
 "metadata": {
  "kernelspec": {
   "display_name": "Python 3",
   "language": "python",
   "name": "python3"
  },
  "language_info": {
   "codemirror_mode": {
    "name": "ipython",
    "version": 3
   },
   "file_extension": ".py",
   "mimetype": "text/x-python",
   "name": "python",
   "nbconvert_exporter": "python",
   "pygments_lexer": "ipython3",
   "version": "3.7.6"
  }
 },
 "nbformat": 4,
 "nbformat_minor": 4
}
