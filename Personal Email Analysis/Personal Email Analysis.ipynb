{
 "cells": [
  {
   "cell_type": "code",
   "execution_count": 1,
   "metadata": {},
   "outputs": [],
   "source": [
    "import pandas as pd\n",
    "import numpy as np\n",
    "import matplotlib.pyplot as plt"
   ]
  },
  {
   "cell_type": "code",
   "execution_count": 2,
   "metadata": {},
   "outputs": [],
   "source": [
    "import mailbox"
   ]
  },
  {
   "cell_type": "code",
   "execution_count": 3,
   "metadata": {},
   "outputs": [
    {
     "data": {
      "text/plain": [
       "<mailbox.mbox at 0x2446f038f88>"
      ]
     },
     "execution_count": 3,
     "metadata": {},
     "output_type": "execute_result"
    }
   ],
   "source": [
    "\n",
    "mailboxfile = \"C:/Users/HP/takeout-20220527T154953Z-001/Takeout/Mail/All mail Including Spam and Trash.mbox\"\n",
    "\n",
    "mbox = mailbox.mbox(mailboxfile)\n",
    "mbox"
   ]
  },
  {
   "cell_type": "code",
   "execution_count": 4,
   "metadata": {},
   "outputs": [
    {
     "name": "stdout",
     "output_type": "stream",
     "text": [
      "X-GM-THRID\n",
      "X-Gmail-Labels\n",
      "Delivered-To\n",
      "Received\n",
      "X-Received\n",
      "ARC-Seal\n",
      "ARC-Message-Signature\n",
      "ARC-Authentication-Results\n",
      "Return-Path\n",
      "Received\n",
      "Received-SPF\n",
      "Authentication-Results\n",
      "DKIM-Signature\n",
      "X-Google-DKIM-Signature\n",
      "X-Gm-Message-State\n",
      "X-Google-Smtp-Source\n",
      "MIME-Version\n",
      "X-Received\n",
      "Date\n",
      "List-Unsubscribe\n",
      "X-Notifications\n",
      "X-Notifications-Bounce-Info\n",
      "Message-ID\n",
      "Subject\n",
      "From\n",
      "To\n",
      "Content-Type\n"
     ]
    }
   ],
   "source": [
    "for key in mbox[0].keys():\n",
    "    print(key)"
   ]
  },
  {
   "cell_type": "code",
   "execution_count": 5,
   "metadata": {},
   "outputs": [],
   "source": [
    "import csv"
   ]
  },
  {
   "cell_type": "code",
   "execution_count": 6,
   "metadata": {},
   "outputs": [],
   "source": [
    "with open('mailbox.csv', 'w') as outputfile:\n",
    "    writer = csv.writer(outputfile)\n",
    "    writer.writerow(['subject','from','date','to','label','thread'])\n",
    "    for message in mbox:\n",
    "        writer.writerow([\n",
    "            message['subject'],\n",
    "            message['from'],\n",
    "            message['date'],\n",
    "            message['to'],\n",
    "            message['X-Gmail-Labels'],\n",
    "            message['X-GM-THRID']\n",
    "        ])\n",
    "        "
   ]
  },
  {
   "cell_type": "code",
   "execution_count": 7,
   "metadata": {},
   "outputs": [],
   "source": [
    "dfs = pd.read_csv('mailbox.csv', names=['subject', 'from', 'date', 'to',\n",
    "'label', 'thread'])"
   ]
  },
  {
   "cell_type": "code",
   "execution_count": 8,
   "metadata": {},
   "outputs": [
    {
     "data": {
      "text/html": [
       "<div>\n",
       "<style scoped>\n",
       "    .dataframe tbody tr th:only-of-type {\n",
       "        vertical-align: middle;\n",
       "    }\n",
       "\n",
       "    .dataframe tbody tr th {\n",
       "        vertical-align: top;\n",
       "    }\n",
       "\n",
       "    .dataframe thead th {\n",
       "        text-align: right;\n",
       "    }\n",
       "</style>\n",
       "<table border=\"1\" class=\"dataframe\">\n",
       "  <thead>\n",
       "    <tr style=\"text-align: right;\">\n",
       "      <th></th>\n",
       "      <th>subject</th>\n",
       "      <th>from</th>\n",
       "      <th>date</th>\n",
       "      <th>to</th>\n",
       "      <th>label</th>\n",
       "      <th>thread</th>\n",
       "    </tr>\n",
       "  </thead>\n",
       "  <tbody>\n",
       "    <tr>\n",
       "      <th>0</th>\n",
       "      <td>subject</td>\n",
       "      <td>from</td>\n",
       "      <td>date</td>\n",
       "      <td>to</td>\n",
       "      <td>label</td>\n",
       "      <td>thread</td>\n",
       "    </tr>\n",
       "    <tr>\n",
       "      <th>1</th>\n",
       "      <td>=?UTF-8?Q?3_new_jobs_for_=E2=80=98data_scienti...</td>\n",
       "      <td>Job alerts from Google &lt;notify-noreply@google....</td>\n",
       "      <td>Tue, 24 May 2022 12:27:26 -0700</td>\n",
       "      <td>ayosamobitade@gmail.com</td>\n",
       "      <td>Inbox,Opened,Category Updates</td>\n",
       "      <td>1733736999130792636</td>\n",
       "    </tr>\n",
       "    <tr>\n",
       "      <th>2</th>\n",
       "      <td>Your program recommendations for the week</td>\n",
       "      <td>\"Will at edX\" &lt;edX@news.edx.org&gt;</td>\n",
       "      <td>Thu, 26 May 2022 14:00:10 +0000</td>\n",
       "      <td>ayosamobitade@gmail.com</td>\n",
       "      <td>Inbox,Category Promotions,Unread</td>\n",
       "      <td>1733897612589550289</td>\n",
       "    </tr>\n",
       "    <tr>\n",
       "      <th>3</th>\n",
       "      <td>=?utf-8?Q?Excel=20Newsletter=20=2D=20STOP=20Em...</td>\n",
       "      <td>=?utf-8?Q?My=20Online=20Training=20Hub?= &lt;webs...</td>\n",
       "      <td>Thu, 26 May 2022 12:06:07 +0000</td>\n",
       "      <td>&lt;Ayosamobitade@gmail.com&gt;</td>\n",
       "      <td>Inbox,Category Updates,Unread</td>\n",
       "      <td>1733890522517290196</td>\n",
       "    </tr>\n",
       "    <tr>\n",
       "      <th>4</th>\n",
       "      <td>=?UTF-8?Q?*Konga_Food_is_now_live_in_Lagos!*_=...</td>\n",
       "      <td>Konga Food &lt;Newsletter@info.konga.com&gt;</td>\n",
       "      <td>Mon, 23 May 2022 15:25:50 +0530</td>\n",
       "      <td>ayosamobitade@gmail.com</td>\n",
       "      <td>Inbox,Category Promotions,Unread</td>\n",
       "      <td>1733610439749409235</td>\n",
       "    </tr>\n",
       "  </tbody>\n",
       "</table>\n",
       "</div>"
      ],
      "text/plain": [
       "                                             subject  \\\n",
       "0                                            subject   \n",
       "1  =?UTF-8?Q?3_new_jobs_for_=E2=80=98data_scienti...   \n",
       "2          Your program recommendations for the week   \n",
       "3  =?utf-8?Q?Excel=20Newsletter=20=2D=20STOP=20Em...   \n",
       "4  =?UTF-8?Q?*Konga_Food_is_now_live_in_Lagos!*_=...   \n",
       "\n",
       "                                                from  \\\n",
       "0                                               from   \n",
       "1  Job alerts from Google <notify-noreply@google....   \n",
       "2                   \"Will at edX\" <edX@news.edx.org>   \n",
       "3  =?utf-8?Q?My=20Online=20Training=20Hub?= <webs...   \n",
       "4             Konga Food <Newsletter@info.konga.com>   \n",
       "\n",
       "                              date                         to  \\\n",
       "0                             date                         to   \n",
       "1  Tue, 24 May 2022 12:27:26 -0700    ayosamobitade@gmail.com   \n",
       "2  Thu, 26 May 2022 14:00:10 +0000    ayosamobitade@gmail.com   \n",
       "3  Thu, 26 May 2022 12:06:07 +0000  <Ayosamobitade@gmail.com>   \n",
       "4  Mon, 23 May 2022 15:25:50 +0530    ayosamobitade@gmail.com   \n",
       "\n",
       "                              label               thread  \n",
       "0                             label               thread  \n",
       "1     Inbox,Opened,Category Updates  1733736999130792636  \n",
       "2  Inbox,Category Promotions,Unread  1733897612589550289  \n",
       "3     Inbox,Category Updates,Unread  1733890522517290196  \n",
       "4  Inbox,Category Promotions,Unread  1733610439749409235  "
      ]
     },
     "execution_count": 8,
     "metadata": {},
     "output_type": "execute_result"
    }
   ],
   "source": [
    "dfs.head(5)"
   ]
  },
  {
   "cell_type": "code",
   "execution_count": 9,
   "metadata": {},
   "outputs": [
    {
     "data": {
      "text/plain": [
       "subject    object\n",
       "from       object\n",
       "date       object\n",
       "to         object\n",
       "label      object\n",
       "thread     object\n",
       "dtype: object"
      ]
     },
     "execution_count": 9,
     "metadata": {},
     "output_type": "execute_result"
    }
   ],
   "source": [
    "dfs.dtypes"
   ]
  },
  {
   "cell_type": "code",
   "execution_count": 10,
   "metadata": {},
   "outputs": [
    {
     "name": "stderr",
     "output_type": "stream",
     "text": [
      "C:\\Users\\HP\\anaconda3\\lib\\site-packages\\dateutil\\parser\\_parser.py:1218: UnknownTimezoneWarning: tzname CDT identified but not understood.  Pass `tzinfos` argument in order to correctly return a timezone-aware datetime.  In a future version, this will raise an exception.\n",
      "  category=UnknownTimezoneWarning)\n",
      "C:\\Users\\HP\\anaconda3\\lib\\site-packages\\dateutil\\parser\\_parser.py:1218: UnknownTimezoneWarning: tzname CST identified but not understood.  Pass `tzinfos` argument in order to correctly return a timezone-aware datetime.  In a future version, this will raise an exception.\n",
      "  category=UnknownTimezoneWarning)\n",
      "C:\\Users\\HP\\anaconda3\\lib\\site-packages\\dateutil\\parser\\_parser.py:1218: UnknownTimezoneWarning: tzname EST identified but not understood.  Pass `tzinfos` argument in order to correctly return a timezone-aware datetime.  In a future version, this will raise an exception.\n",
      "  category=UnknownTimezoneWarning)\n"
     ]
    }
   ],
   "source": [
    "dfs['date'] = dfs['date'].apply(lambda x: pd.to_datetime(x, errors='coerce', utc=True))"
   ]
  },
  {
   "cell_type": "code",
   "execution_count": 11,
   "metadata": {},
   "outputs": [
    {
     "data": {
      "text/plain": [
       "subject                 object\n",
       "from                    object\n",
       "date       datetime64[ns, UTC]\n",
       "to                      object\n",
       "label                   object\n",
       "thread                  object\n",
       "dtype: object"
      ]
     },
     "execution_count": 11,
     "metadata": {},
     "output_type": "execute_result"
    }
   ],
   "source": [
    "dfs.dtypes"
   ]
  },
  {
   "cell_type": "code",
   "execution_count": 12,
   "metadata": {},
   "outputs": [],
   "source": [
    "## Removing the Nan values"
   ]
  },
  {
   "cell_type": "code",
   "execution_count": 13,
   "metadata": {},
   "outputs": [],
   "source": [
    "dfs = dfs[dfs['date'].notna()]"
   ]
  },
  {
   "cell_type": "code",
   "execution_count": 14,
   "metadata": {},
   "outputs": [],
   "source": [
    "## Applying descriptive statistics"
   ]
  },
  {
   "cell_type": "code",
   "execution_count": 15,
   "metadata": {},
   "outputs": [
    {
     "name": "stdout",
     "output_type": "stream",
     "text": [
      "<class 'pandas.core.frame.DataFrame'>\n",
      "Int64Index: 21565 entries, 1 to 21566\n",
      "Data columns (total 6 columns):\n",
      " #   Column   Non-Null Count  Dtype              \n",
      "---  ------   --------------  -----              \n",
      " 0   subject  21502 non-null  object             \n",
      " 1   from     21565 non-null  object             \n",
      " 2   date     21565 non-null  datetime64[ns, UTC]\n",
      " 3   to       21545 non-null  object             \n",
      " 4   label    21565 non-null  object             \n",
      " 5   thread   21565 non-null  object             \n",
      "dtypes: datetime64[ns, UTC](1), object(5)\n",
      "memory usage: 1.2+ MB\n"
     ]
    }
   ],
   "source": [
    "dfs.info()"
   ]
  },
  {
   "cell_type": "code",
   "execution_count": 16,
   "metadata": {},
   "outputs": [],
   "source": [
    "# Note that ther are 21565 emails"
   ]
  },
  {
   "cell_type": "code",
   "execution_count": 17,
   "metadata": {
    "scrolled": true
   },
   "outputs": [
    {
     "data": {
      "text/html": [
       "<div>\n",
       "<style scoped>\n",
       "    .dataframe tbody tr th:only-of-type {\n",
       "        vertical-align: middle;\n",
       "    }\n",
       "\n",
       "    .dataframe tbody tr th {\n",
       "        vertical-align: top;\n",
       "    }\n",
       "\n",
       "    .dataframe thead th {\n",
       "        text-align: right;\n",
       "    }\n",
       "</style>\n",
       "<table border=\"1\" class=\"dataframe\">\n",
       "  <thead>\n",
       "    <tr style=\"text-align: right;\">\n",
       "      <th></th>\n",
       "      <th>subject</th>\n",
       "      <th>from</th>\n",
       "      <th>date</th>\n",
       "      <th>to</th>\n",
       "      <th>label</th>\n",
       "      <th>thread</th>\n",
       "    </tr>\n",
       "  </thead>\n",
       "  <tbody>\n",
       "    <tr>\n",
       "      <th>1</th>\n",
       "      <td>=?UTF-8?Q?3_new_jobs_for_=E2=80=98data_scienti...</td>\n",
       "      <td>Job alerts from Google &lt;notify-noreply@google....</td>\n",
       "      <td>2022-05-24 19:27:26+00:00</td>\n",
       "      <td>ayosamobitade@gmail.com</td>\n",
       "      <td>Inbox,Opened,Category Updates</td>\n",
       "      <td>1733736999130792636</td>\n",
       "    </tr>\n",
       "    <tr>\n",
       "      <th>2</th>\n",
       "      <td>Your program recommendations for the week</td>\n",
       "      <td>\"Will at edX\" &lt;edX@news.edx.org&gt;</td>\n",
       "      <td>2022-05-26 14:00:10+00:00</td>\n",
       "      <td>ayosamobitade@gmail.com</td>\n",
       "      <td>Inbox,Category Promotions,Unread</td>\n",
       "      <td>1733897612589550289</td>\n",
       "    </tr>\n",
       "    <tr>\n",
       "      <th>3</th>\n",
       "      <td>=?utf-8?Q?Excel=20Newsletter=20=2D=20STOP=20Em...</td>\n",
       "      <td>=?utf-8?Q?My=20Online=20Training=20Hub?= &lt;webs...</td>\n",
       "      <td>2022-05-26 12:06:07+00:00</td>\n",
       "      <td>&lt;Ayosamobitade@gmail.com&gt;</td>\n",
       "      <td>Inbox,Category Updates,Unread</td>\n",
       "      <td>1733890522517290196</td>\n",
       "    </tr>\n",
       "    <tr>\n",
       "      <th>4</th>\n",
       "      <td>=?UTF-8?Q?*Konga_Food_is_now_live_in_Lagos!*_=...</td>\n",
       "      <td>Konga Food &lt;Newsletter@info.konga.com&gt;</td>\n",
       "      <td>2022-05-23 09:55:50+00:00</td>\n",
       "      <td>ayosamobitade@gmail.com</td>\n",
       "      <td>Inbox,Category Promotions,Unread</td>\n",
       "      <td>1733610439749409235</td>\n",
       "    </tr>\n",
       "    <tr>\n",
       "      <th>5</th>\n",
       "      <td>30+ new jobs for 'data scientist'</td>\n",
       "      <td>LinkedIn Job Alerts &lt;jobalerts-noreply@linkedi...</td>\n",
       "      <td>2022-05-23 15:04:34+00:00</td>\n",
       "      <td>\"Ayobami Samuel Obitade B.Tech\" &lt;ayosamobitade...</td>\n",
       "      <td>Inbox,Category Updates,Unread</td>\n",
       "      <td>1733629866042045910</td>\n",
       "    </tr>\n",
       "    <tr>\n",
       "      <th>6</th>\n",
       "      <td>Re: [DataTalksClub/data-engineering-zoomcamp] ...</td>\n",
       "      <td>Alexey Grigorev &lt;notifications@github.com&gt;</td>\n",
       "      <td>2022-05-22 20:53:24+00:00</td>\n",
       "      <td>DataTalksClub/data-engineering-zoomcamp &lt;data-...</td>\n",
       "      <td>Trash,Opened,Category Forums</td>\n",
       "      <td>1733323756223473963</td>\n",
       "    </tr>\n",
       "    <tr>\n",
       "      <th>7</th>\n",
       "      <td>Re: [DataTalksClub/data-engineering-zoomcamp] ...</td>\n",
       "      <td>Alexey Grigorev &lt;notifications@github.com&gt;</td>\n",
       "      <td>2022-05-22 20:53:22+00:00</td>\n",
       "      <td>DataTalksClub/data-engineering-zoomcamp &lt;data-...</td>\n",
       "      <td>Trash,Opened,Category Forums</td>\n",
       "      <td>1733323756223473963</td>\n",
       "    </tr>\n",
       "    <tr>\n",
       "      <th>8</th>\n",
       "      <td>[DataTalksClub/data-engineering-zoomcamp] Time...</td>\n",
       "      <td>Alexey Grigorev &lt;notifications@github.com&gt;</td>\n",
       "      <td>2022-05-20 05:59:07+00:00</td>\n",
       "      <td>DataTalksClub/data-engineering-zoomcamp &lt;data-...</td>\n",
       "      <td>Trash,Opened,Category Updates</td>\n",
       "      <td>1733323756223473963</td>\n",
       "    </tr>\n",
       "    <tr>\n",
       "      <th>9</th>\n",
       "      <td>=?utf-8?q?I_was_refused_a_USA_visa_on_a_counte...</td>\n",
       "      <td>Quora Digest &lt;english-personalized-digest@quor...</td>\n",
       "      <td>2022-05-22 04:12:22+00:00</td>\n",
       "      <td>ayosamobitade@gmail.com</td>\n",
       "      <td>Inbox,Category Updates,Unread</td>\n",
       "      <td>1733498234232534466</td>\n",
       "    </tr>\n",
       "    <tr>\n",
       "      <th>10</th>\n",
       "      <td>GRE Question of the Day for May 15</td>\n",
       "      <td>\"Kaplan Test Prep\" &lt;kaplantestprep@mail.kaptes...</td>\n",
       "      <td>2022-05-15 13:35:13+00:00</td>\n",
       "      <td>&lt;ayosamobitade@gmail.com&gt;</td>\n",
       "      <td>Inbox,Category Promotions,Unread</td>\n",
       "      <td>1732899544725135310</td>\n",
       "    </tr>\n",
       "  </tbody>\n",
       "</table>\n",
       "</div>"
      ],
      "text/plain": [
       "                                              subject  \\\n",
       "1   =?UTF-8?Q?3_new_jobs_for_=E2=80=98data_scienti...   \n",
       "2           Your program recommendations for the week   \n",
       "3   =?utf-8?Q?Excel=20Newsletter=20=2D=20STOP=20Em...   \n",
       "4   =?UTF-8?Q?*Konga_Food_is_now_live_in_Lagos!*_=...   \n",
       "5                   30+ new jobs for 'data scientist'   \n",
       "6   Re: [DataTalksClub/data-engineering-zoomcamp] ...   \n",
       "7   Re: [DataTalksClub/data-engineering-zoomcamp] ...   \n",
       "8   [DataTalksClub/data-engineering-zoomcamp] Time...   \n",
       "9   =?utf-8?q?I_was_refused_a_USA_visa_on_a_counte...   \n",
       "10                 GRE Question of the Day for May 15   \n",
       "\n",
       "                                                 from  \\\n",
       "1   Job alerts from Google <notify-noreply@google....   \n",
       "2                    \"Will at edX\" <edX@news.edx.org>   \n",
       "3   =?utf-8?Q?My=20Online=20Training=20Hub?= <webs...   \n",
       "4              Konga Food <Newsletter@info.konga.com>   \n",
       "5   LinkedIn Job Alerts <jobalerts-noreply@linkedi...   \n",
       "6          Alexey Grigorev <notifications@github.com>   \n",
       "7          Alexey Grigorev <notifications@github.com>   \n",
       "8          Alexey Grigorev <notifications@github.com>   \n",
       "9   Quora Digest <english-personalized-digest@quor...   \n",
       "10  \"Kaplan Test Prep\" <kaplantestprep@mail.kaptes...   \n",
       "\n",
       "                        date  \\\n",
       "1  2022-05-24 19:27:26+00:00   \n",
       "2  2022-05-26 14:00:10+00:00   \n",
       "3  2022-05-26 12:06:07+00:00   \n",
       "4  2022-05-23 09:55:50+00:00   \n",
       "5  2022-05-23 15:04:34+00:00   \n",
       "6  2022-05-22 20:53:24+00:00   \n",
       "7  2022-05-22 20:53:22+00:00   \n",
       "8  2022-05-20 05:59:07+00:00   \n",
       "9  2022-05-22 04:12:22+00:00   \n",
       "10 2022-05-15 13:35:13+00:00   \n",
       "\n",
       "                                                   to  \\\n",
       "1                             ayosamobitade@gmail.com   \n",
       "2                             ayosamobitade@gmail.com   \n",
       "3                           <Ayosamobitade@gmail.com>   \n",
       "4                             ayosamobitade@gmail.com   \n",
       "5   \"Ayobami Samuel Obitade B.Tech\" <ayosamobitade...   \n",
       "6   DataTalksClub/data-engineering-zoomcamp <data-...   \n",
       "7   DataTalksClub/data-engineering-zoomcamp <data-...   \n",
       "8   DataTalksClub/data-engineering-zoomcamp <data-...   \n",
       "9                             ayosamobitade@gmail.com   \n",
       "10                          <ayosamobitade@gmail.com>   \n",
       "\n",
       "                               label               thread  \n",
       "1      Inbox,Opened,Category Updates  1733736999130792636  \n",
       "2   Inbox,Category Promotions,Unread  1733897612589550289  \n",
       "3      Inbox,Category Updates,Unread  1733890522517290196  \n",
       "4   Inbox,Category Promotions,Unread  1733610439749409235  \n",
       "5      Inbox,Category Updates,Unread  1733629866042045910  \n",
       "6       Trash,Opened,Category Forums  1733323756223473963  \n",
       "7       Trash,Opened,Category Forums  1733323756223473963  \n",
       "8      Trash,Opened,Category Updates  1733323756223473963  \n",
       "9      Inbox,Category Updates,Unread  1733498234232534466  \n",
       "10  Inbox,Category Promotions,Unread  1732899544725135310  "
      ]
     },
     "execution_count": 17,
     "metadata": {},
     "output_type": "execute_result"
    }
   ],
   "source": [
    "dfs.head(10)"
   ]
  },
  {
   "cell_type": "code",
   "execution_count": 18,
   "metadata": {},
   "outputs": [],
   "source": [
    "## Data refactoring"
   ]
  },
  {
   "cell_type": "code",
   "execution_count": 19,
   "metadata": {},
   "outputs": [],
   "source": [
    "# creating an email extractor\n",
    "\n",
    "import re\n",
    "\n",
    "def extract_email_address(string):\n",
    "    email = re.findall(r'<(.+?)>', string)\n",
    "    if not email:\n",
    "        email = list(filter(lambda y: '@' in y, string.split()))\n",
    "        return email[0] if email else np.nan\n"
   ]
  },
  {
   "cell_type": "code",
   "execution_count": 20,
   "metadata": {
    "scrolled": true
   },
   "outputs": [],
   "source": [
    "# applying the email extractor\n",
    "\n",
    "dfs['from'] = dfs['from'].apply(lambda x: extract_email_address(x))"
   ]
  },
  {
   "cell_type": "code",
   "execution_count": 21,
   "metadata": {},
   "outputs": [
    {
     "data": {
      "text/html": [
       "<div>\n",
       "<style scoped>\n",
       "    .dataframe tbody tr th:only-of-type {\n",
       "        vertical-align: middle;\n",
       "    }\n",
       "\n",
       "    .dataframe tbody tr th {\n",
       "        vertical-align: top;\n",
       "    }\n",
       "\n",
       "    .dataframe thead th {\n",
       "        text-align: right;\n",
       "    }\n",
       "</style>\n",
       "<table border=\"1\" class=\"dataframe\">\n",
       "  <thead>\n",
       "    <tr style=\"text-align: right;\">\n",
       "      <th></th>\n",
       "      <th>subject</th>\n",
       "      <th>from</th>\n",
       "      <th>date</th>\n",
       "      <th>to</th>\n",
       "      <th>label</th>\n",
       "      <th>thread</th>\n",
       "    </tr>\n",
       "  </thead>\n",
       "  <tbody>\n",
       "    <tr>\n",
       "      <th>263</th>\n",
       "      <td>Microsoft Build digital venue is now open!</td>\n",
       "      <td>None</td>\n",
       "      <td>2022-05-17 15:25:19+00:00</td>\n",
       "      <td>ayosamobitade@gmail.com</td>\n",
       "      <td>Inbox,Category Updates,Unread</td>\n",
       "      <td>1733087720565169540</td>\n",
       "    </tr>\n",
       "    <tr>\n",
       "      <th>2783</th>\n",
       "      <td>=?UTF-8?Q?=F0=9F=94=84_Stephy_Pearlz=F0=9F=87=...</td>\n",
       "      <td>None</td>\n",
       "      <td>2022-04-22 18:38:33+00:00</td>\n",
       "      <td>Samworld Press &lt;ayosamobitade@gmail.com&gt;</td>\n",
       "      <td>Inbox,Category Social,Unread</td>\n",
       "      <td>1730834820896447817</td>\n",
       "    </tr>\n",
       "    <tr>\n",
       "      <th>6239</th>\n",
       "      <td>Jobs report: officer, mining, developer ... in...</td>\n",
       "      <td>None</td>\n",
       "      <td>2021-04-16 07:49:30+00:00</td>\n",
       "      <td>Obitade Ayobami &lt;ayosamobitade@gmail.com&gt;</td>\n",
       "      <td>Inbox,Category Promotions,Unread</td>\n",
       "      <td>1697182511735112518</td>\n",
       "    </tr>\n",
       "    <tr>\n",
       "      <th>15832</th>\n",
       "      <td>Speak a foreign language fluently, Ayobami!</td>\n",
       "      <td>None</td>\n",
       "      <td>2019-08-04 09:52:31+00:00</td>\n",
       "      <td>Ayobami Samuel Obitade &lt;ayosamobitade@gmail.com&gt;</td>\n",
       "      <td>Inbox,Category Promotions,Unread</td>\n",
       "      <td>1640929549245705334</td>\n",
       "    </tr>\n",
       "    <tr>\n",
       "      <th>2468</th>\n",
       "      <td>1 new digital marketer job in Ibadan</td>\n",
       "      <td>None</td>\n",
       "      <td>2021-11-09 11:23:36+00:00</td>\n",
       "      <td>ayosamobitade@gmail.com</td>\n",
       "      <td>Inbox,Category Updates,Unread</td>\n",
       "      <td>1715950146028977097</td>\n",
       "    </tr>\n",
       "    <tr>\n",
       "      <th>14293</th>\n",
       "      <td>Your paperback book is available in the Amazon...</td>\n",
       "      <td>None</td>\n",
       "      <td>2020-02-21 12:55:01+00:00</td>\n",
       "      <td>ayosamobitade@gmail.com</td>\n",
       "      <td>Inbox,Important,Opened,Category Updates</td>\n",
       "      <td>1659150248056445196</td>\n",
       "    </tr>\n",
       "    <tr>\n",
       "      <th>19659</th>\n",
       "      <td>Can you really write a GOOD book in a month?</td>\n",
       "      <td>None</td>\n",
       "      <td>2018-09-06 00:00:10+00:00</td>\n",
       "      <td>ayosamobitade@gmail.com</td>\n",
       "      <td>Inbox,Category Promotions,Unread</td>\n",
       "      <td>1610814073783964647</td>\n",
       "    </tr>\n",
       "    <tr>\n",
       "      <th>11097</th>\n",
       "      <td>=?UTF-8?B?Q2xhc3NpYyBBbmQgSWNvbmljIFN0cmlwZXMg...</td>\n",
       "      <td>None</td>\n",
       "      <td>2020-08-10 12:13:10+00:00</td>\n",
       "      <td>Ayo &lt;Ayosamobitade@gmail.com&gt;</td>\n",
       "      <td>Inbox,Category Promotions,Unread</td>\n",
       "      <td>1674640460619474972</td>\n",
       "    </tr>\n",
       "    <tr>\n",
       "      <th>10675</th>\n",
       "      <td>[Webinar Today] An Educator's Guide to Teachin...</td>\n",
       "      <td>None</td>\n",
       "      <td>2021-03-02 18:30:15+00:00</td>\n",
       "      <td>&lt;ayosamobitade@gmail.com&gt;</td>\n",
       "      <td>Inbox,Category Promotions,Unread</td>\n",
       "      <td>1693146277508745922</td>\n",
       "    </tr>\n",
       "    <tr>\n",
       "      <th>10455</th>\n",
       "      <td>All the Pandas read_csv() you should know to s...</td>\n",
       "      <td>None</td>\n",
       "      <td>2020-09-27 07:40:00+00:00</td>\n",
       "      <td>ayosamobitade@gmail.com</td>\n",
       "      <td>Inbox,Category Promotions,Unread</td>\n",
       "      <td>1678971930316469169</td>\n",
       "    </tr>\n",
       "  </tbody>\n",
       "</table>\n",
       "</div>"
      ],
      "text/plain": [
       "                                                 subject  from  \\\n",
       "263           Microsoft Build digital venue is now open!  None   \n",
       "2783   =?UTF-8?Q?=F0=9F=94=84_Stephy_Pearlz=F0=9F=87=...  None   \n",
       "6239   Jobs report: officer, mining, developer ... in...  None   \n",
       "15832        Speak a foreign language fluently, Ayobami!  None   \n",
       "2468                1 new digital marketer job in Ibadan  None   \n",
       "14293  Your paperback book is available in the Amazon...  None   \n",
       "19659       Can you really write a GOOD book in a month?  None   \n",
       "11097  =?UTF-8?B?Q2xhc3NpYyBBbmQgSWNvbmljIFN0cmlwZXMg...  None   \n",
       "10675  [Webinar Today] An Educator's Guide to Teachin...  None   \n",
       "10455  All the Pandas read_csv() you should know to s...  None   \n",
       "\n",
       "                           date  \\\n",
       "263   2022-05-17 15:25:19+00:00   \n",
       "2783  2022-04-22 18:38:33+00:00   \n",
       "6239  2021-04-16 07:49:30+00:00   \n",
       "15832 2019-08-04 09:52:31+00:00   \n",
       "2468  2021-11-09 11:23:36+00:00   \n",
       "14293 2020-02-21 12:55:01+00:00   \n",
       "19659 2018-09-06 00:00:10+00:00   \n",
       "11097 2020-08-10 12:13:10+00:00   \n",
       "10675 2021-03-02 18:30:15+00:00   \n",
       "10455 2020-09-27 07:40:00+00:00   \n",
       "\n",
       "                                                     to  \\\n",
       "263                             ayosamobitade@gmail.com   \n",
       "2783           Samworld Press <ayosamobitade@gmail.com>   \n",
       "6239          Obitade Ayobami <ayosamobitade@gmail.com>   \n",
       "15832  Ayobami Samuel Obitade <ayosamobitade@gmail.com>   \n",
       "2468                            ayosamobitade@gmail.com   \n",
       "14293                           ayosamobitade@gmail.com   \n",
       "19659                           ayosamobitade@gmail.com   \n",
       "11097                     Ayo <Ayosamobitade@gmail.com>   \n",
       "10675                         <ayosamobitade@gmail.com>   \n",
       "10455                           ayosamobitade@gmail.com   \n",
       "\n",
       "                                         label               thread  \n",
       "263              Inbox,Category Updates,Unread  1733087720565169540  \n",
       "2783              Inbox,Category Social,Unread  1730834820896447817  \n",
       "6239          Inbox,Category Promotions,Unread  1697182511735112518  \n",
       "15832         Inbox,Category Promotions,Unread  1640929549245705334  \n",
       "2468             Inbox,Category Updates,Unread  1715950146028977097  \n",
       "14293  Inbox,Important,Opened,Category Updates  1659150248056445196  \n",
       "19659         Inbox,Category Promotions,Unread  1610814073783964647  \n",
       "11097         Inbox,Category Promotions,Unread  1674640460619474972  \n",
       "10675         Inbox,Category Promotions,Unread  1693146277508745922  \n",
       "10455         Inbox,Category Promotions,Unread  1678971930316469169  "
      ]
     },
     "execution_count": 21,
     "metadata": {},
     "output_type": "execute_result"
    }
   ],
   "source": [
    "dfs.sample(10)"
   ]
  },
  {
   "cell_type": "code",
   "execution_count": 22,
   "metadata": {},
   "outputs": [],
   "source": [
    "myemail = 'ayosamobitade@gmail.com'\n",
    "dfs['label'] = dfs['from'].apply(lambda x: 'sent' if x==myemail else 'inbox')"
   ]
  },
  {
   "cell_type": "markdown",
   "metadata": {},
   "source": [
    "## Dropping columns\n"
   ]
  },
  {
   "cell_type": "code",
   "execution_count": 24,
   "metadata": {},
   "outputs": [],
   "source": [
    "dfs.drop('to', axis = 1, inplace = True)"
   ]
  },
  {
   "cell_type": "code",
   "execution_count": 25,
   "metadata": {},
   "outputs": [
    {
     "ename": "NameError",
     "evalue": "name 'refactor_timezone' is not defined",
     "output_type": "error",
     "traceback": [
      "\u001b[1;31m---------------------------------------------------------------------------\u001b[0m",
      "\u001b[1;31mNameError\u001b[0m                                 Traceback (most recent call last)",
      "\u001b[1;32m~\\anaconda3\\lib\\site-packages\\pandas\\core\\indexes\\extension.py\u001b[0m in \u001b[0;36mmap\u001b[1;34m(self, mapper, na_action)\u001b[0m\n\u001b[0;32m    272\u001b[0m         \u001b[1;32mtry\u001b[0m\u001b[1;33m:\u001b[0m\u001b[1;33m\u001b[0m\u001b[1;33m\u001b[0m\u001b[0m\n\u001b[1;32m--> 273\u001b[1;33m             \u001b[0mresult\u001b[0m \u001b[1;33m=\u001b[0m \u001b[0mmapper\u001b[0m\u001b[1;33m(\u001b[0m\u001b[0mself\u001b[0m\u001b[1;33m)\u001b[0m\u001b[1;33m\u001b[0m\u001b[1;33m\u001b[0m\u001b[0m\n\u001b[0m\u001b[0;32m    274\u001b[0m \u001b[1;33m\u001b[0m\u001b[0m\n",
      "\u001b[1;32m<ipython-input-25-2779f4b8fc45>\u001b[0m in \u001b[0;36m<lambda>\u001b[1;34m(x)\u001b[0m\n\u001b[0;32m      9\u001b[0m \u001b[1;33m\u001b[0m\u001b[0m\n\u001b[1;32m---> 10\u001b[1;33m \u001b[0mdfs\u001b[0m\u001b[1;33m[\u001b[0m\u001b[1;34m'date'\u001b[0m\u001b[1;33m]\u001b[0m \u001b[1;33m=\u001b[0m \u001b[0mdfs\u001b[0m\u001b[1;33m[\u001b[0m\u001b[1;34m'date'\u001b[0m\u001b[1;33m]\u001b[0m\u001b[1;33m.\u001b[0m\u001b[0mapply\u001b[0m\u001b[1;33m(\u001b[0m\u001b[1;32mlambda\u001b[0m \u001b[0mx\u001b[0m\u001b[1;33m:\u001b[0m \u001b[0mrefactor_timezone\u001b[0m\u001b[1;33m(\u001b[0m\u001b[0mx\u001b[0m\u001b[1;33m)\u001b[0m\u001b[1;33m)\u001b[0m\u001b[1;33m\u001b[0m\u001b[1;33m\u001b[0m\u001b[0m\n\u001b[0m\u001b[0;32m     11\u001b[0m \u001b[1;33m\u001b[0m\u001b[0m\n",
      "\u001b[1;31mNameError\u001b[0m: name 'refactor_timezone' is not defined",
      "\nDuring handling of the above exception, another exception occurred:\n",
      "\u001b[1;31mNameError\u001b[0m                                 Traceback (most recent call last)",
      "\u001b[1;32m<ipython-input-25-2779f4b8fc45>\u001b[0m in \u001b[0;36m<module>\u001b[1;34m\u001b[0m\n\u001b[0;32m      8\u001b[0m     \u001b[1;32mreturn\u001b[0m \u001b[0mX\u001b[0m\u001b[1;33m.\u001b[0m\u001b[0mastimezone\u001b[0m\u001b[1;33m(\u001b[0m\u001b[0mest\u001b[0m\u001b[1;33m)\u001b[0m\u001b[1;33m\u001b[0m\u001b[1;33m\u001b[0m\u001b[0m\n\u001b[0;32m      9\u001b[0m \u001b[1;33m\u001b[0m\u001b[0m\n\u001b[1;32m---> 10\u001b[1;33m \u001b[0mdfs\u001b[0m\u001b[1;33m[\u001b[0m\u001b[1;34m'date'\u001b[0m\u001b[1;33m]\u001b[0m \u001b[1;33m=\u001b[0m \u001b[0mdfs\u001b[0m\u001b[1;33m[\u001b[0m\u001b[1;34m'date'\u001b[0m\u001b[1;33m]\u001b[0m\u001b[1;33m.\u001b[0m\u001b[0mapply\u001b[0m\u001b[1;33m(\u001b[0m\u001b[1;32mlambda\u001b[0m \u001b[0mx\u001b[0m\u001b[1;33m:\u001b[0m \u001b[0mrefactor_timezone\u001b[0m\u001b[1;33m(\u001b[0m\u001b[0mx\u001b[0m\u001b[1;33m)\u001b[0m\u001b[1;33m)\u001b[0m\u001b[1;33m\u001b[0m\u001b[1;33m\u001b[0m\u001b[0m\n\u001b[0m\u001b[0;32m     11\u001b[0m \u001b[1;33m\u001b[0m\u001b[0m\n",
      "\u001b[1;32m~\\anaconda3\\lib\\site-packages\\pandas\\core\\series.py\u001b[0m in \u001b[0;36mapply\u001b[1;34m(self, func, convert_dtype, args, **kwds)\u001b[0m\n\u001b[0;32m   3843\u001b[0m             \u001b[1;32mif\u001b[0m \u001b[0mis_extension_array_dtype\u001b[0m\u001b[1;33m(\u001b[0m\u001b[0mself\u001b[0m\u001b[1;33m.\u001b[0m\u001b[0mdtype\u001b[0m\u001b[1;33m)\u001b[0m \u001b[1;32mand\u001b[0m \u001b[0mhasattr\u001b[0m\u001b[1;33m(\u001b[0m\u001b[0mself\u001b[0m\u001b[1;33m.\u001b[0m\u001b[0m_values\u001b[0m\u001b[1;33m,\u001b[0m \u001b[1;34m\"map\"\u001b[0m\u001b[1;33m)\u001b[0m\u001b[1;33m:\u001b[0m\u001b[1;33m\u001b[0m\u001b[1;33m\u001b[0m\u001b[0m\n\u001b[0;32m   3844\u001b[0m                 \u001b[1;31m# GH#23179 some EAs do not have `map`\u001b[0m\u001b[1;33m\u001b[0m\u001b[1;33m\u001b[0m\u001b[1;33m\u001b[0m\u001b[0m\n\u001b[1;32m-> 3845\u001b[1;33m                 \u001b[0mmapped\u001b[0m \u001b[1;33m=\u001b[0m \u001b[0mself\u001b[0m\u001b[1;33m.\u001b[0m\u001b[0m_values\u001b[0m\u001b[1;33m.\u001b[0m\u001b[0mmap\u001b[0m\u001b[1;33m(\u001b[0m\u001b[0mf\u001b[0m\u001b[1;33m)\u001b[0m\u001b[1;33m\u001b[0m\u001b[1;33m\u001b[0m\u001b[0m\n\u001b[0m\u001b[0;32m   3846\u001b[0m             \u001b[1;32melse\u001b[0m\u001b[1;33m:\u001b[0m\u001b[1;33m\u001b[0m\u001b[1;33m\u001b[0m\u001b[0m\n\u001b[0;32m   3847\u001b[0m                 \u001b[0mvalues\u001b[0m \u001b[1;33m=\u001b[0m \u001b[0mself\u001b[0m\u001b[1;33m.\u001b[0m\u001b[0mastype\u001b[0m\u001b[1;33m(\u001b[0m\u001b[0mobject\u001b[0m\u001b[1;33m)\u001b[0m\u001b[1;33m.\u001b[0m\u001b[0mvalues\u001b[0m\u001b[1;33m\u001b[0m\u001b[1;33m\u001b[0m\u001b[0m\n",
      "\u001b[1;32m~\\anaconda3\\lib\\site-packages\\pandas\\core\\arrays\\datetimelike.py\u001b[0m in \u001b[0;36mmap\u001b[1;34m(self, mapper)\u001b[0m\n\u001b[0;32m    816\u001b[0m         \u001b[1;32mfrom\u001b[0m \u001b[0mpandas\u001b[0m \u001b[1;32mimport\u001b[0m \u001b[0mIndex\u001b[0m\u001b[1;33m\u001b[0m\u001b[1;33m\u001b[0m\u001b[0m\n\u001b[0;32m    817\u001b[0m \u001b[1;33m\u001b[0m\u001b[0m\n\u001b[1;32m--> 818\u001b[1;33m         \u001b[1;32mreturn\u001b[0m \u001b[0mIndex\u001b[0m\u001b[1;33m(\u001b[0m\u001b[0mself\u001b[0m\u001b[1;33m)\u001b[0m\u001b[1;33m.\u001b[0m\u001b[0mmap\u001b[0m\u001b[1;33m(\u001b[0m\u001b[0mmapper\u001b[0m\u001b[1;33m)\u001b[0m\u001b[1;33m.\u001b[0m\u001b[0marray\u001b[0m\u001b[1;33m\u001b[0m\u001b[1;33m\u001b[0m\u001b[0m\n\u001b[0m\u001b[0;32m    819\u001b[0m \u001b[1;33m\u001b[0m\u001b[0m\n\u001b[0;32m    820\u001b[0m     \u001b[1;31m# ------------------------------------------------------------------\u001b[0m\u001b[1;33m\u001b[0m\u001b[1;33m\u001b[0m\u001b[1;33m\u001b[0m\u001b[0m\n",
      "\u001b[1;32m~\\anaconda3\\lib\\site-packages\\pandas\\core\\indexes\\extension.py\u001b[0m in \u001b[0;36mmap\u001b[1;34m(self, mapper, na_action)\u001b[0m\n\u001b[0;32m    281\u001b[0m             \u001b[1;32mreturn\u001b[0m \u001b[0mresult\u001b[0m\u001b[1;33m\u001b[0m\u001b[1;33m\u001b[0m\u001b[0m\n\u001b[0;32m    282\u001b[0m         \u001b[1;32mexcept\u001b[0m \u001b[0mException\u001b[0m\u001b[1;33m:\u001b[0m\u001b[1;33m\u001b[0m\u001b[1;33m\u001b[0m\u001b[0m\n\u001b[1;32m--> 283\u001b[1;33m             \u001b[1;32mreturn\u001b[0m \u001b[0mself\u001b[0m\u001b[1;33m.\u001b[0m\u001b[0mastype\u001b[0m\u001b[1;33m(\u001b[0m\u001b[0mobject\u001b[0m\u001b[1;33m)\u001b[0m\u001b[1;33m.\u001b[0m\u001b[0mmap\u001b[0m\u001b[1;33m(\u001b[0m\u001b[0mmapper\u001b[0m\u001b[1;33m)\u001b[0m\u001b[1;33m\u001b[0m\u001b[1;33m\u001b[0m\u001b[0m\n\u001b[0m\u001b[0;32m    284\u001b[0m \u001b[1;33m\u001b[0m\u001b[0m\n\u001b[0;32m    285\u001b[0m     \u001b[1;33m@\u001b[0m\u001b[0mAppender\u001b[0m\u001b[1;33m(\u001b[0m\u001b[0mIndex\u001b[0m\u001b[1;33m.\u001b[0m\u001b[0mastype\u001b[0m\u001b[1;33m.\u001b[0m\u001b[0m__doc__\u001b[0m\u001b[1;33m)\u001b[0m\u001b[1;33m\u001b[0m\u001b[1;33m\u001b[0m\u001b[0m\n",
      "\u001b[1;32m~\\anaconda3\\lib\\site-packages\\pandas\\core\\indexes\\base.py\u001b[0m in \u001b[0;36mmap\u001b[1;34m(self, mapper, na_action)\u001b[0m\n\u001b[0;32m   4563\u001b[0m         \u001b[1;32mfrom\u001b[0m \u001b[0mpandas\u001b[0m\u001b[1;33m.\u001b[0m\u001b[0mcore\u001b[0m\u001b[1;33m.\u001b[0m\u001b[0mindexes\u001b[0m\u001b[1;33m.\u001b[0m\u001b[0mmulti\u001b[0m \u001b[1;32mimport\u001b[0m \u001b[0mMultiIndex\u001b[0m\u001b[1;33m\u001b[0m\u001b[1;33m\u001b[0m\u001b[0m\n\u001b[0;32m   4564\u001b[0m \u001b[1;33m\u001b[0m\u001b[0m\n\u001b[1;32m-> 4565\u001b[1;33m         \u001b[0mnew_values\u001b[0m \u001b[1;33m=\u001b[0m \u001b[0msuper\u001b[0m\u001b[1;33m(\u001b[0m\u001b[1;33m)\u001b[0m\u001b[1;33m.\u001b[0m\u001b[0m_map_values\u001b[0m\u001b[1;33m(\u001b[0m\u001b[0mmapper\u001b[0m\u001b[1;33m,\u001b[0m \u001b[0mna_action\u001b[0m\u001b[1;33m=\u001b[0m\u001b[0mna_action\u001b[0m\u001b[1;33m)\u001b[0m\u001b[1;33m\u001b[0m\u001b[1;33m\u001b[0m\u001b[0m\n\u001b[0m\u001b[0;32m   4566\u001b[0m \u001b[1;33m\u001b[0m\u001b[0m\n\u001b[0;32m   4567\u001b[0m         \u001b[0mattributes\u001b[0m \u001b[1;33m=\u001b[0m \u001b[0mself\u001b[0m\u001b[1;33m.\u001b[0m\u001b[0m_get_attributes_dict\u001b[0m\u001b[1;33m(\u001b[0m\u001b[1;33m)\u001b[0m\u001b[1;33m\u001b[0m\u001b[1;33m\u001b[0m\u001b[0m\n",
      "\u001b[1;32m~\\anaconda3\\lib\\site-packages\\pandas\\core\\base.py\u001b[0m in \u001b[0;36m_map_values\u001b[1;34m(self, mapper, na_action)\u001b[0m\n\u001b[0;32m   1152\u001b[0m \u001b[1;33m\u001b[0m\u001b[0m\n\u001b[0;32m   1153\u001b[0m         \u001b[1;31m# mapper is a function\u001b[0m\u001b[1;33m\u001b[0m\u001b[1;33m\u001b[0m\u001b[1;33m\u001b[0m\u001b[0m\n\u001b[1;32m-> 1154\u001b[1;33m         \u001b[0mnew_values\u001b[0m \u001b[1;33m=\u001b[0m \u001b[0mmap_f\u001b[0m\u001b[1;33m(\u001b[0m\u001b[0mvalues\u001b[0m\u001b[1;33m,\u001b[0m \u001b[0mmapper\u001b[0m\u001b[1;33m)\u001b[0m\u001b[1;33m\u001b[0m\u001b[1;33m\u001b[0m\u001b[0m\n\u001b[0m\u001b[0;32m   1155\u001b[0m \u001b[1;33m\u001b[0m\u001b[0m\n\u001b[0;32m   1156\u001b[0m         \u001b[1;32mreturn\u001b[0m \u001b[0mnew_values\u001b[0m\u001b[1;33m\u001b[0m\u001b[1;33m\u001b[0m\u001b[0m\n",
      "\u001b[1;32mpandas\\_libs\\lib.pyx\u001b[0m in \u001b[0;36mpandas._libs.lib.map_infer\u001b[1;34m()\u001b[0m\n",
      "\u001b[1;32m<ipython-input-25-2779f4b8fc45>\u001b[0m in \u001b[0;36m<lambda>\u001b[1;34m(x)\u001b[0m\n\u001b[0;32m      8\u001b[0m     \u001b[1;32mreturn\u001b[0m \u001b[0mX\u001b[0m\u001b[1;33m.\u001b[0m\u001b[0mastimezone\u001b[0m\u001b[1;33m(\u001b[0m\u001b[0mest\u001b[0m\u001b[1;33m)\u001b[0m\u001b[1;33m\u001b[0m\u001b[1;33m\u001b[0m\u001b[0m\n\u001b[0;32m      9\u001b[0m \u001b[1;33m\u001b[0m\u001b[0m\n\u001b[1;32m---> 10\u001b[1;33m \u001b[0mdfs\u001b[0m\u001b[1;33m[\u001b[0m\u001b[1;34m'date'\u001b[0m\u001b[1;33m]\u001b[0m \u001b[1;33m=\u001b[0m \u001b[0mdfs\u001b[0m\u001b[1;33m[\u001b[0m\u001b[1;34m'date'\u001b[0m\u001b[1;33m]\u001b[0m\u001b[1;33m.\u001b[0m\u001b[0mapply\u001b[0m\u001b[1;33m(\u001b[0m\u001b[1;32mlambda\u001b[0m \u001b[0mx\u001b[0m\u001b[1;33m:\u001b[0m \u001b[0mrefactor_timezone\u001b[0m\u001b[1;33m(\u001b[0m\u001b[0mx\u001b[0m\u001b[1;33m)\u001b[0m\u001b[1;33m)\u001b[0m\u001b[1;33m\u001b[0m\u001b[1;33m\u001b[0m\u001b[0m\n\u001b[0m\u001b[0;32m     11\u001b[0m \u001b[1;33m\u001b[0m\u001b[0m\n",
      "\u001b[1;31mNameError\u001b[0m: name 'refactor_timezone' is not defined"
     ]
    }
   ],
   "source": [
    "# adjusting the time zones\n",
    "\n",
    "import datetime\n",
    "import pytz\n",
    "\n",
    "def refaactor_timezone(x):\n",
    "    est = pytz.timezone('US/Eastern')\n",
    "    return X.astimezone(est)\n",
    "\n",
    "dfs['date'] = dfs['date'].apply(lambda x: refactor_timezone(x))\n",
    "\n"
   ]
  },
  {
   "cell_type": "code",
   "execution_count": null,
   "metadata": {},
   "outputs": [],
   "source": []
  }
 ],
 "metadata": {
  "kernelspec": {
   "display_name": "Python 3",
   "language": "python",
   "name": "python3"
  },
  "language_info": {
   "codemirror_mode": {
    "name": "ipython",
    "version": 3
   },
   "file_extension": ".py",
   "mimetype": "text/x-python",
   "name": "python",
   "nbconvert_exporter": "python",
   "pygments_lexer": "ipython3",
   "version": "3.7.6"
  }
 },
 "nbformat": 4,
 "nbformat_minor": 4
}
