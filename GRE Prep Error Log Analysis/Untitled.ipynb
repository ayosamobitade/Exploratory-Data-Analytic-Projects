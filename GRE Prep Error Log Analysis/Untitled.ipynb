{
 "cells": [
  {
   "cell_type": "markdown",
   "metadata": {},
   "source": [
    "## GRE Prep Error Log Analysis"
   ]
  },
  {
   "cell_type": "code",
   "execution_count": 1,
   "metadata": {},
   "outputs": [],
   "source": [
    "# import libraries\n",
    "\n",
    "import pandas as pd\n",
    "import numpy as np\n",
    "import matplotlib.pyplot as plt\n",
    "import seaborn as sns"
   ]
  },
  {
   "cell_type": "code",
   "execution_count": 3,
   "metadata": {},
   "outputs": [
    {
     "data": {
      "text/html": [
       "<div>\n",
       "<style scoped>\n",
       "    .dataframe tbody tr th:only-of-type {\n",
       "        vertical-align: middle;\n",
       "    }\n",
       "\n",
       "    .dataframe tbody tr th {\n",
       "        vertical-align: top;\n",
       "    }\n",
       "\n",
       "    .dataframe thead th {\n",
       "        text-align: right;\n",
       "    }\n",
       "</style>\n",
       "<table border=\"1\" class=\"dataframe\">\n",
       "  <thead>\n",
       "    <tr style=\"text-align: right;\">\n",
       "      <th></th>\n",
       "      <th>book</th>\n",
       "      <th>question_number</th>\n",
       "      <th>topic</th>\n",
       "      <th>trial_number</th>\n",
       "      <th>score</th>\n",
       "    </tr>\n",
       "  </thead>\n",
       "  <tbody>\n",
       "  </tbody>\n",
       "</table>\n",
       "</div>"
      ],
      "text/plain": [
       "Empty DataFrame\n",
       "Columns: [book, question_number, topic, trial_number, score]\n",
       "Index: []"
      ]
     },
     "execution_count": 3,
     "metadata": {},
     "output_type": "execute_result"
    }
   ],
   "source": [
    "# creating the error log dataframe\n",
    "\n",
    "error_log = pd.DataFrame()\n",
    "\n",
    "# creating the columns of the dataframe\n",
    "\n",
    "columns = ['book', 'question_number', 'topic', 'trial_number', 'score']\n",
    "\n",
    "for i in columns:\n",
    "    error_log[i] = []\n",
    "\n",
    "error_log    "
   ]
  },
  {
   "cell_type": "code",
   "execution_count": 26,
   "metadata": {},
   "outputs": [
    {
     "ename": "SyntaxError",
     "evalue": "invalid syntax (<ipython-input-26-388c1c99f5e6>, line 13)",
     "output_type": "error",
     "traceback": [
      "\u001b[1;36m  File \u001b[1;32m\"<ipython-input-26-388c1c99f5e6>\"\u001b[1;36m, line \u001b[1;32m13\u001b[0m\n\u001b[1;33m    score = [i=0 if question_number[i] in answered_correctly else 1]\u001b[0m\n\u001b[1;37m              ^\u001b[0m\n\u001b[1;31mSyntaxError\u001b[0m\u001b[1;31m:\u001b[0m invalid syntax\n"
     ]
    }
   ],
   "source": [
    "#creating error log for quant\n",
    "book = 'manhattan_5lb'\n",
    "total_question = 17\n",
    "question_type = 'mixed_geometry'\n",
    "answered_correctly = [2,3,4,5,11,13,15]\n",
    "\n",
    "def add_subject(book, total_question, answered_correctly, question_type):\n",
    "    \n",
    "    # listing out the question numbers\n",
    "    question_number = [i for i in range(1, total_question + 1)]\n",
    "    \n",
    "    # creating the score column\n",
    "    score = [i=0 if question_number[i] in answered_correctly else 1]\n",
    "    \n",
    "    return score\n",
    "\n",
    "    \n",
    "add_subject(book, total_question, answered_correctly, question_type)    \n",
    "\n",
    "    "
   ]
  },
  {
   "cell_type": "code",
   "execution_count": null,
   "metadata": {},
   "outputs": [],
   "source": []
  },
  {
   "cell_type": "code",
   "execution_count": null,
   "metadata": {},
   "outputs": [],
   "source": []
  },
  {
   "cell_type": "code",
   "execution_count": null,
   "metadata": {},
   "outputs": [],
   "source": []
  }
 ],
 "metadata": {
  "kernelspec": {
   "display_name": "Python 3",
   "language": "python",
   "name": "python3"
  },
  "language_info": {
   "codemirror_mode": {
    "name": "ipython",
    "version": 3
   },
   "file_extension": ".py",
   "mimetype": "text/x-python",
   "name": "python",
   "nbconvert_exporter": "python",
   "pygments_lexer": "ipython3",
   "version": "3.7.6"
  }
 },
 "nbformat": 4,
 "nbformat_minor": 4
}
